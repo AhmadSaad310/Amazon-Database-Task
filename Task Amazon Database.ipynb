{
 "cells": [
  {
   "cell_type": "code",
   "execution_count": 3,
   "id": "7a909a0a-dcab-43ba-af1e-8e9d54c867cc",
   "metadata": {},
   "outputs": [
    {
     "name": "stdout",
     "output_type": "stream",
     "text": [
      "Connected\n"
     ]
    }
   ],
   "source": [
    "# - create amazon database \n",
    "# - using Peewee\n",
    "#   - create 2 new tables:\n",
    "#     - products (name,price,category(relation),description)\n",
    "#     - category (name)\n",
    "#   - insert new data into products , category\n",
    "#   - using dummy data website , download 100 product and 10 category as 2 files in json or csv format \n",
    "#   - builk insert file data into products , category tables \n",
    "#   - select all products \n",
    "#   - select all products price > 30\n",
    "#   - get products wehre category = 'any_category_name'\n",
    "#   - count how many product in each category \n",
    "#   - export products into csv\n",
    "from peewee import *\n",
    "import json\n",
    "import csv\n",
    "db = MySQLDatabase (\n",
    "     \"amazon\",\n",
    "    user = 'root',\n",
    "    password = '123123',\n",
    "    host = 'localhost'\n",
    ")\n",
    "db.connect()\n",
    "print('Connected')"
   ]
  },
  {
   "cell_type": "code",
   "execution_count": 11,
   "id": "31b3745e-3359-4494-b324-55e5f0f2f57b",
   "metadata": {},
   "outputs": [
    {
     "name": "stdout",
     "output_type": "stream",
     "text": [
      "DONE\n"
     ]
    }
   ],
   "source": [
    "#     - category (name)\n",
    "class Category(Model):\n",
    "    id = AutoField()\n",
    "    name = CharField()\n",
    "    class Meta:\n",
    "        database = db\n",
    "\n",
    "db.create_tables([Category])\n",
    "print('DONE')"
   ]
  },
  {
   "cell_type": "code",
   "execution_count": 15,
   "id": "4236838d-21c5-4248-9f79-4db44c2ef6fa",
   "metadata": {},
   "outputs": [
    {
     "name": "stdout",
     "output_type": "stream",
     "text": [
      "DONE2\n"
     ]
    }
   ],
   "source": [
    "#     - products (name,price,category(relation),description)\n",
    "class Products(Model):\n",
    "    id = AutoField()\n",
    "    name = CharField()\n",
    "    price = IntegerField()\n",
    "    category = ForeignKeyField(Category , backref='products' )\n",
    "    discription = TextField()\n",
    "    class Meta:\n",
    "        database = db\n",
    "\n",
    "db.create_tables([Products])\n",
    "print('DONE2')"
   ]
  },
  {
   "cell_type": "code",
   "execution_count": 21,
   "id": "7a1951c8-72b1-48e0-b5dc-89832ac45b9d",
   "metadata": {},
   "outputs": [
    {
     "name": "stdout",
     "output_type": "stream",
     "text": [
      "1\n"
     ]
    }
   ],
   "source": [
    "#   - insert new data into category\n",
    "data = Category.create(name ='Ahmad')\n",
    "print(data)"
   ]
  },
  {
   "cell_type": "code",
   "execution_count": 23,
   "id": "e6af0acf-6b46-4446-96f3-f909008b6eac",
   "metadata": {},
   "outputs": [
    {
     "name": "stdout",
     "output_type": "stream",
     "text": [
      "1\n"
     ]
    }
   ],
   "source": [
    "#   - insert new data into products\n",
    "data = Products.create(name = 'Saad',price = 500 , category = 1 , discription = 'It is good')\n",
    "print(data)"
   ]
  },
  {
   "cell_type": "code",
   "execution_count": 35,
   "id": "0a3af25d-349d-4e58-836f-16e7d1bf4384",
   "metadata": {},
   "outputs": [
    {
     "name": "stdout",
     "output_type": "stream",
     "text": [
      "[{'name': 'Darnell'}, {'name': 'Jedidiah'}, {'name': 'Jeana'}, {'name': 'Derward'}, {'name': 'Fiann'}, {'name': 'Riva'}, {'name': 'Sully'}, {'name': 'Avigdor'}, {'name': 'Porty'}, {'name': 'Cleon'}]\n",
      "[{'name': 'Darnell'}, {'name': 'Jedidiah'}, {'name': 'Jeana'}, {'name': 'Derward'}, {'name': 'Fiann'}, {'name': 'Riva'}, {'name': 'Sully'}, {'name': 'Avigdor'}, {'name': 'Porty'}, {'name': 'Cleon'}]\n",
      "[{'name': 'Darnell'}, {'name': 'Jedidiah'}, {'name': 'Jeana'}, {'name': 'Derward'}, {'name': 'Fiann'}, {'name': 'Riva'}, {'name': 'Sully'}, {'name': 'Avigdor'}, {'name': 'Porty'}, {'name': 'Cleon'}]\n",
      "[{'name': 'Darnell'}, {'name': 'Jedidiah'}, {'name': 'Jeana'}, {'name': 'Derward'}, {'name': 'Fiann'}, {'name': 'Riva'}, {'name': 'Sully'}, {'name': 'Avigdor'}, {'name': 'Porty'}, {'name': 'Cleon'}]\n",
      "[{'name': 'Darnell'}, {'name': 'Jedidiah'}, {'name': 'Jeana'}, {'name': 'Derward'}, {'name': 'Fiann'}, {'name': 'Riva'}, {'name': 'Sully'}, {'name': 'Avigdor'}, {'name': 'Porty'}, {'name': 'Cleon'}]\n",
      "[{'name': 'Darnell'}, {'name': 'Jedidiah'}, {'name': 'Jeana'}, {'name': 'Derward'}, {'name': 'Fiann'}, {'name': 'Riva'}, {'name': 'Sully'}, {'name': 'Avigdor'}, {'name': 'Porty'}, {'name': 'Cleon'}]\n",
      "[{'name': 'Darnell'}, {'name': 'Jedidiah'}, {'name': 'Jeana'}, {'name': 'Derward'}, {'name': 'Fiann'}, {'name': 'Riva'}, {'name': 'Sully'}, {'name': 'Avigdor'}, {'name': 'Porty'}, {'name': 'Cleon'}]\n",
      "[{'name': 'Darnell'}, {'name': 'Jedidiah'}, {'name': 'Jeana'}, {'name': 'Derward'}, {'name': 'Fiann'}, {'name': 'Riva'}, {'name': 'Sully'}, {'name': 'Avigdor'}, {'name': 'Porty'}, {'name': 'Cleon'}]\n",
      "[{'name': 'Darnell'}, {'name': 'Jedidiah'}, {'name': 'Jeana'}, {'name': 'Derward'}, {'name': 'Fiann'}, {'name': 'Riva'}, {'name': 'Sully'}, {'name': 'Avigdor'}, {'name': 'Porty'}, {'name': 'Cleon'}]\n",
      "[{'name': 'Darnell'}, {'name': 'Jedidiah'}, {'name': 'Jeana'}, {'name': 'Derward'}, {'name': 'Fiann'}, {'name': 'Riva'}, {'name': 'Sully'}, {'name': 'Avigdor'}, {'name': 'Porty'}, {'name': 'Cleon'}]\n"
     ]
    }
   ],
   "source": [
    "#   - builk insert file data into category tables \n",
    "f = open(r'C:\\Users\\A.saad aldeen\\Downloads\\MOCK_DATA (2).json')\n",
    "data = json.load(f)\n",
    "for p in data:\n",
    "    Category.create(**p)\n",
    "    print (list(data))"
   ]
  },
  {
   "cell_type": "code",
   "execution_count": 47,
   "id": "35a296ce-69b3-4ef3-bf9b-035230ba5a93",
   "metadata": {},
   "outputs": [
    {
     "ename": "IntegrityError",
     "evalue": "(1452, 'Cannot add or update a child row: a foreign key constraint fails (`amazon`.`products`, CONSTRAINT `products_ibfk_1` FOREIGN KEY (`category_id`) REFERENCES `category` (`id`))')",
     "output_type": "error",
     "traceback": [
      "\u001b[1;31m---------------------------------------------------------------------------\u001b[0m",
      "\u001b[1;31mIntegrityError\u001b[0m                            Traceback (most recent call last)",
      "File \u001b[1;32m~\\AppData\\Roaming\\Python\\Python312\\site-packages\\peewee.py:3322\u001b[0m, in \u001b[0;36mDatabase.execute_sql\u001b[1;34m(self, sql, params, commit)\u001b[0m\n\u001b[0;32m   3321\u001b[0m     cursor \u001b[38;5;241m=\u001b[39m \u001b[38;5;28mself\u001b[39m\u001b[38;5;241m.\u001b[39mcursor()\n\u001b[1;32m-> 3322\u001b[0m     cursor\u001b[38;5;241m.\u001b[39mexecute(sql, params \u001b[38;5;129;01mor\u001b[39;00m ())\n\u001b[0;32m   3323\u001b[0m \u001b[38;5;28;01mreturn\u001b[39;00m cursor\n",
      "File \u001b[1;32m~\\AppData\\Roaming\\Python\\Python312\\site-packages\\pymysql\\cursors.py:153\u001b[0m, in \u001b[0;36mCursor.execute\u001b[1;34m(self, query, args)\u001b[0m\n\u001b[0;32m    151\u001b[0m query \u001b[38;5;241m=\u001b[39m \u001b[38;5;28mself\u001b[39m\u001b[38;5;241m.\u001b[39mmogrify(query, args)\n\u001b[1;32m--> 153\u001b[0m result \u001b[38;5;241m=\u001b[39m \u001b[38;5;28mself\u001b[39m\u001b[38;5;241m.\u001b[39m_query(query)\n\u001b[0;32m    154\u001b[0m \u001b[38;5;28mself\u001b[39m\u001b[38;5;241m.\u001b[39m_executed \u001b[38;5;241m=\u001b[39m query\n",
      "File \u001b[1;32m~\\AppData\\Roaming\\Python\\Python312\\site-packages\\pymysql\\cursors.py:322\u001b[0m, in \u001b[0;36mCursor._query\u001b[1;34m(self, q)\u001b[0m\n\u001b[0;32m    321\u001b[0m \u001b[38;5;28mself\u001b[39m\u001b[38;5;241m.\u001b[39m_clear_result()\n\u001b[1;32m--> 322\u001b[0m conn\u001b[38;5;241m.\u001b[39mquery(q)\n\u001b[0;32m    323\u001b[0m \u001b[38;5;28mself\u001b[39m\u001b[38;5;241m.\u001b[39m_do_get_result()\n",
      "File \u001b[1;32m~\\AppData\\Roaming\\Python\\Python312\\site-packages\\pymysql\\connections.py:563\u001b[0m, in \u001b[0;36mConnection.query\u001b[1;34m(self, sql, unbuffered)\u001b[0m\n\u001b[0;32m    562\u001b[0m \u001b[38;5;28mself\u001b[39m\u001b[38;5;241m.\u001b[39m_execute_command(COMMAND\u001b[38;5;241m.\u001b[39mCOM_QUERY, sql)\n\u001b[1;32m--> 563\u001b[0m \u001b[38;5;28mself\u001b[39m\u001b[38;5;241m.\u001b[39m_affected_rows \u001b[38;5;241m=\u001b[39m \u001b[38;5;28mself\u001b[39m\u001b[38;5;241m.\u001b[39m_read_query_result(unbuffered\u001b[38;5;241m=\u001b[39munbuffered)\n\u001b[0;32m    564\u001b[0m \u001b[38;5;28;01mreturn\u001b[39;00m \u001b[38;5;28mself\u001b[39m\u001b[38;5;241m.\u001b[39m_affected_rows\n",
      "File \u001b[1;32m~\\AppData\\Roaming\\Python\\Python312\\site-packages\\pymysql\\connections.py:825\u001b[0m, in \u001b[0;36mConnection._read_query_result\u001b[1;34m(self, unbuffered)\u001b[0m\n\u001b[0;32m    824\u001b[0m     result \u001b[38;5;241m=\u001b[39m MySQLResult(\u001b[38;5;28mself\u001b[39m)\n\u001b[1;32m--> 825\u001b[0m     result\u001b[38;5;241m.\u001b[39mread()\n\u001b[0;32m    826\u001b[0m \u001b[38;5;28mself\u001b[39m\u001b[38;5;241m.\u001b[39m_result \u001b[38;5;241m=\u001b[39m result\n",
      "File \u001b[1;32m~\\AppData\\Roaming\\Python\\Python312\\site-packages\\pymysql\\connections.py:1199\u001b[0m, in \u001b[0;36mMySQLResult.read\u001b[1;34m(self)\u001b[0m\n\u001b[0;32m   1198\u001b[0m \u001b[38;5;28;01mtry\u001b[39;00m:\n\u001b[1;32m-> 1199\u001b[0m     first_packet \u001b[38;5;241m=\u001b[39m \u001b[38;5;28mself\u001b[39m\u001b[38;5;241m.\u001b[39mconnection\u001b[38;5;241m.\u001b[39m_read_packet()\n\u001b[0;32m   1201\u001b[0m     \u001b[38;5;28;01mif\u001b[39;00m first_packet\u001b[38;5;241m.\u001b[39mis_ok_packet():\n",
      "File \u001b[1;32m~\\AppData\\Roaming\\Python\\Python312\\site-packages\\pymysql\\connections.py:775\u001b[0m, in \u001b[0;36mConnection._read_packet\u001b[1;34m(self, packet_type)\u001b[0m\n\u001b[0;32m    774\u001b[0m         \u001b[38;5;28mself\u001b[39m\u001b[38;5;241m.\u001b[39m_result\u001b[38;5;241m.\u001b[39munbuffered_active \u001b[38;5;241m=\u001b[39m \u001b[38;5;28;01mFalse\u001b[39;00m\n\u001b[1;32m--> 775\u001b[0m     packet\u001b[38;5;241m.\u001b[39mraise_for_error()\n\u001b[0;32m    776\u001b[0m \u001b[38;5;28;01mreturn\u001b[39;00m packet\n",
      "File \u001b[1;32m~\\AppData\\Roaming\\Python\\Python312\\site-packages\\pymysql\\protocol.py:219\u001b[0m, in \u001b[0;36mMysqlPacket.raise_for_error\u001b[1;34m(self)\u001b[0m\n\u001b[0;32m    218\u001b[0m     \u001b[38;5;28mprint\u001b[39m(\u001b[38;5;124m\"\u001b[39m\u001b[38;5;124merrno =\u001b[39m\u001b[38;5;124m\"\u001b[39m, errno)\n\u001b[1;32m--> 219\u001b[0m err\u001b[38;5;241m.\u001b[39mraise_mysql_exception(\u001b[38;5;28mself\u001b[39m\u001b[38;5;241m.\u001b[39m_data)\n",
      "File \u001b[1;32m~\\AppData\\Roaming\\Python\\Python312\\site-packages\\pymysql\\err.py:150\u001b[0m, in \u001b[0;36mraise_mysql_exception\u001b[1;34m(data)\u001b[0m\n\u001b[0;32m    149\u001b[0m     errorclass \u001b[38;5;241m=\u001b[39m InternalError \u001b[38;5;28;01mif\u001b[39;00m errno \u001b[38;5;241m<\u001b[39m \u001b[38;5;241m1000\u001b[39m \u001b[38;5;28;01melse\u001b[39;00m OperationalError\n\u001b[1;32m--> 150\u001b[0m \u001b[38;5;28;01mraise\u001b[39;00m errorclass(errno, errval)\n",
      "\u001b[1;31mIntegrityError\u001b[0m: (1452, 'Cannot add or update a child row: a foreign key constraint fails (`amazon`.`products`, CONSTRAINT `products_ibfk_1` FOREIGN KEY (`category_id`) REFERENCES `category` (`id`))')",
      "\nDuring handling of the above exception, another exception occurred:\n",
      "\u001b[1;31mIntegrityError\u001b[0m                            Traceback (most recent call last)",
      "Cell \u001b[1;32mIn[47], line 5\u001b[0m\n\u001b[0;32m      3\u001b[0m data2 \u001b[38;5;241m=\u001b[39m json\u001b[38;5;241m.\u001b[39mload(f)\n\u001b[0;32m      4\u001b[0m \u001b[38;5;28;01mfor\u001b[39;00m p \u001b[38;5;129;01min\u001b[39;00m data2:\n\u001b[1;32m----> 5\u001b[0m     Products\u001b[38;5;241m.\u001b[39mcreate(\u001b[38;5;241m*\u001b[39m\u001b[38;5;241m*\u001b[39mp)\n",
      "File \u001b[1;32m~\\AppData\\Roaming\\Python\\Python312\\site-packages\\peewee.py:6741\u001b[0m, in \u001b[0;36mModel.create\u001b[1;34m(cls, **query)\u001b[0m\n\u001b[0;32m   6738\u001b[0m \u001b[38;5;129m@classmethod\u001b[39m\n\u001b[0;32m   6739\u001b[0m \u001b[38;5;28;01mdef\u001b[39;00m \u001b[38;5;21mcreate\u001b[39m(\u001b[38;5;28mcls\u001b[39m, \u001b[38;5;241m*\u001b[39m\u001b[38;5;241m*\u001b[39mquery):\n\u001b[0;32m   6740\u001b[0m     inst \u001b[38;5;241m=\u001b[39m \u001b[38;5;28mcls\u001b[39m(\u001b[38;5;241m*\u001b[39m\u001b[38;5;241m*\u001b[39mquery)\n\u001b[1;32m-> 6741\u001b[0m     inst\u001b[38;5;241m.\u001b[39msave(force_insert\u001b[38;5;241m=\u001b[39m\u001b[38;5;28;01mTrue\u001b[39;00m)\n\u001b[0;32m   6742\u001b[0m     \u001b[38;5;28;01mreturn\u001b[39;00m inst\n",
      "File \u001b[1;32m~\\AppData\\Roaming\\Python\\Python312\\site-packages\\peewee.py:6951\u001b[0m, in \u001b[0;36mModel.save\u001b[1;34m(self, force_insert, only)\u001b[0m\n\u001b[0;32m   6949\u001b[0m     rows \u001b[38;5;241m=\u001b[39m \u001b[38;5;28mself\u001b[39m\u001b[38;5;241m.\u001b[39mupdate(\u001b[38;5;241m*\u001b[39m\u001b[38;5;241m*\u001b[39mfield_dict)\u001b[38;5;241m.\u001b[39mwhere(\u001b[38;5;28mself\u001b[39m\u001b[38;5;241m.\u001b[39m_pk_expr())\u001b[38;5;241m.\u001b[39mexecute()\n\u001b[0;32m   6950\u001b[0m \u001b[38;5;28;01melif\u001b[39;00m pk_field \u001b[38;5;129;01mis\u001b[39;00m \u001b[38;5;129;01mnot\u001b[39;00m \u001b[38;5;28;01mNone\u001b[39;00m:\n\u001b[1;32m-> 6951\u001b[0m     pk \u001b[38;5;241m=\u001b[39m \u001b[38;5;28mself\u001b[39m\u001b[38;5;241m.\u001b[39minsert(\u001b[38;5;241m*\u001b[39m\u001b[38;5;241m*\u001b[39mfield_dict)\u001b[38;5;241m.\u001b[39mexecute()\n\u001b[0;32m   6952\u001b[0m     \u001b[38;5;28;01mif\u001b[39;00m pk \u001b[38;5;129;01mis\u001b[39;00m \u001b[38;5;129;01mnot\u001b[39;00m \u001b[38;5;28;01mNone\u001b[39;00m \u001b[38;5;129;01mand\u001b[39;00m (\u001b[38;5;28mself\u001b[39m\u001b[38;5;241m.\u001b[39m_meta\u001b[38;5;241m.\u001b[39mauto_increment \u001b[38;5;129;01mor\u001b[39;00m\n\u001b[0;32m   6953\u001b[0m                            pk_value \u001b[38;5;129;01mis\u001b[39;00m \u001b[38;5;28;01mNone\u001b[39;00m):\n\u001b[0;32m   6954\u001b[0m         \u001b[38;5;28mself\u001b[39m\u001b[38;5;241m.\u001b[39m_pk \u001b[38;5;241m=\u001b[39m pk\n",
      "File \u001b[1;32m~\\AppData\\Roaming\\Python\\Python312\\site-packages\\peewee.py:2036\u001b[0m, in \u001b[0;36mdatabase_required.<locals>.inner\u001b[1;34m(self, database, *args, **kwargs)\u001b[0m\n\u001b[0;32m   2033\u001b[0m \u001b[38;5;28;01mif\u001b[39;00m \u001b[38;5;129;01mnot\u001b[39;00m database:\n\u001b[0;32m   2034\u001b[0m     \u001b[38;5;28;01mraise\u001b[39;00m InterfaceError(\u001b[38;5;124m'\u001b[39m\u001b[38;5;124mQuery must be bound to a database in order \u001b[39m\u001b[38;5;124m'\u001b[39m\n\u001b[0;32m   2035\u001b[0m                          \u001b[38;5;124m'\u001b[39m\u001b[38;5;124mto call \u001b[39m\u001b[38;5;124m\"\u001b[39m\u001b[38;5;132;01m%s\u001b[39;00m\u001b[38;5;124m\"\u001b[39m\u001b[38;5;124m.\u001b[39m\u001b[38;5;124m'\u001b[39m \u001b[38;5;241m%\u001b[39m method\u001b[38;5;241m.\u001b[39m\u001b[38;5;18m__name__\u001b[39m)\n\u001b[1;32m-> 2036\u001b[0m \u001b[38;5;28;01mreturn\u001b[39;00m method(\u001b[38;5;28mself\u001b[39m, database, \u001b[38;5;241m*\u001b[39margs, \u001b[38;5;241m*\u001b[39m\u001b[38;5;241m*\u001b[39mkwargs)\n",
      "File \u001b[1;32m~\\AppData\\Roaming\\Python\\Python312\\site-packages\\peewee.py:2107\u001b[0m, in \u001b[0;36mBaseQuery.execute\u001b[1;34m(self, database)\u001b[0m\n\u001b[0;32m   2105\u001b[0m \u001b[38;5;129m@database_required\u001b[39m\n\u001b[0;32m   2106\u001b[0m \u001b[38;5;28;01mdef\u001b[39;00m \u001b[38;5;21mexecute\u001b[39m(\u001b[38;5;28mself\u001b[39m, database):\n\u001b[1;32m-> 2107\u001b[0m     \u001b[38;5;28;01mreturn\u001b[39;00m \u001b[38;5;28mself\u001b[39m\u001b[38;5;241m.\u001b[39m_execute(database)\n",
      "File \u001b[1;32m~\\AppData\\Roaming\\Python\\Python312\\site-packages\\peewee.py:2912\u001b[0m, in \u001b[0;36mInsert._execute\u001b[1;34m(self, database)\u001b[0m\n\u001b[0;32m   2910\u001b[0m     \u001b[38;5;28mself\u001b[39m\u001b[38;5;241m.\u001b[39m_returning \u001b[38;5;241m=\u001b[39m (\u001b[38;5;28mself\u001b[39m\u001b[38;5;241m.\u001b[39mtable\u001b[38;5;241m.\u001b[39m_primary_key,)\n\u001b[0;32m   2911\u001b[0m \u001b[38;5;28;01mtry\u001b[39;00m:\n\u001b[1;32m-> 2912\u001b[0m     \u001b[38;5;28;01mreturn\u001b[39;00m \u001b[38;5;28msuper\u001b[39m(Insert, \u001b[38;5;28mself\u001b[39m)\u001b[38;5;241m.\u001b[39m_execute(database)\n\u001b[0;32m   2913\u001b[0m \u001b[38;5;28;01mexcept\u001b[39;00m \u001b[38;5;28mself\u001b[39m\u001b[38;5;241m.\u001b[39mDefaultValuesException:\n\u001b[0;32m   2914\u001b[0m     \u001b[38;5;28;01mpass\u001b[39;00m\n",
      "File \u001b[1;32m~\\AppData\\Roaming\\Python\\Python312\\site-packages\\peewee.py:2625\u001b[0m, in \u001b[0;36m_WriteQuery._execute\u001b[1;34m(self, database)\u001b[0m\n\u001b[0;32m   2623\u001b[0m     cursor \u001b[38;5;241m=\u001b[39m \u001b[38;5;28mself\u001b[39m\u001b[38;5;241m.\u001b[39mexecute_returning(database)\n\u001b[0;32m   2624\u001b[0m \u001b[38;5;28;01melse\u001b[39;00m:\n\u001b[1;32m-> 2625\u001b[0m     cursor \u001b[38;5;241m=\u001b[39m database\u001b[38;5;241m.\u001b[39mexecute(\u001b[38;5;28mself\u001b[39m)\n\u001b[0;32m   2626\u001b[0m \u001b[38;5;28;01mreturn\u001b[39;00m \u001b[38;5;28mself\u001b[39m\u001b[38;5;241m.\u001b[39mhandle_result(database, cursor)\n",
      "File \u001b[1;32m~\\AppData\\Roaming\\Python\\Python312\\site-packages\\peewee.py:3330\u001b[0m, in \u001b[0;36mDatabase.execute\u001b[1;34m(self, query, commit, **context_options)\u001b[0m\n\u001b[0;32m   3328\u001b[0m ctx \u001b[38;5;241m=\u001b[39m \u001b[38;5;28mself\u001b[39m\u001b[38;5;241m.\u001b[39mget_sql_context(\u001b[38;5;241m*\u001b[39m\u001b[38;5;241m*\u001b[39mcontext_options)\n\u001b[0;32m   3329\u001b[0m sql, params \u001b[38;5;241m=\u001b[39m ctx\u001b[38;5;241m.\u001b[39msql(query)\u001b[38;5;241m.\u001b[39mquery()\n\u001b[1;32m-> 3330\u001b[0m \u001b[38;5;28;01mreturn\u001b[39;00m \u001b[38;5;28mself\u001b[39m\u001b[38;5;241m.\u001b[39mexecute_sql(sql, params)\n",
      "File \u001b[1;32m~\\AppData\\Roaming\\Python\\Python312\\site-packages\\peewee.py:3320\u001b[0m, in \u001b[0;36mDatabase.execute_sql\u001b[1;34m(self, sql, params, commit)\u001b[0m\n\u001b[0;32m   3318\u001b[0m     __deprecated__(\u001b[38;5;124m'\u001b[39m\u001b[38;5;124m\"\u001b[39m\u001b[38;5;124mcommit\u001b[39m\u001b[38;5;124m\"\u001b[39m\u001b[38;5;124m has been deprecated and is a no-op.\u001b[39m\u001b[38;5;124m'\u001b[39m)\n\u001b[0;32m   3319\u001b[0m logger\u001b[38;5;241m.\u001b[39mdebug((sql, params))\n\u001b[1;32m-> 3320\u001b[0m \u001b[38;5;28;01mwith\u001b[39;00m __exception_wrapper__:\n\u001b[0;32m   3321\u001b[0m     cursor \u001b[38;5;241m=\u001b[39m \u001b[38;5;28mself\u001b[39m\u001b[38;5;241m.\u001b[39mcursor()\n\u001b[0;32m   3322\u001b[0m     cursor\u001b[38;5;241m.\u001b[39mexecute(sql, params \u001b[38;5;129;01mor\u001b[39;00m ())\n",
      "File \u001b[1;32m~\\AppData\\Roaming\\Python\\Python312\\site-packages\\peewee.py:3088\u001b[0m, in \u001b[0;36mExceptionWrapper.__exit__\u001b[1;34m(self, exc_type, exc_value, traceback)\u001b[0m\n\u001b[0;32m   3086\u001b[0m new_type \u001b[38;5;241m=\u001b[39m \u001b[38;5;28mself\u001b[39m\u001b[38;5;241m.\u001b[39mexceptions[exc_type\u001b[38;5;241m.\u001b[39m\u001b[38;5;18m__name__\u001b[39m]\n\u001b[0;32m   3087\u001b[0m exc_args \u001b[38;5;241m=\u001b[39m exc_value\u001b[38;5;241m.\u001b[39margs\n\u001b[1;32m-> 3088\u001b[0m reraise(new_type, new_type(exc_value, \u001b[38;5;241m*\u001b[39mexc_args), traceback)\n",
      "File \u001b[1;32m~\\AppData\\Roaming\\Python\\Python312\\site-packages\\peewee.py:196\u001b[0m, in \u001b[0;36mreraise\u001b[1;34m(tp, value, tb)\u001b[0m\n\u001b[0;32m    194\u001b[0m \u001b[38;5;28;01mdef\u001b[39;00m \u001b[38;5;21mreraise\u001b[39m(tp, value, tb\u001b[38;5;241m=\u001b[39m\u001b[38;5;28;01mNone\u001b[39;00m):\n\u001b[0;32m    195\u001b[0m     \u001b[38;5;28;01mif\u001b[39;00m value\u001b[38;5;241m.\u001b[39m__traceback__ \u001b[38;5;129;01mis\u001b[39;00m \u001b[38;5;129;01mnot\u001b[39;00m tb:\n\u001b[1;32m--> 196\u001b[0m         \u001b[38;5;28;01mraise\u001b[39;00m value\u001b[38;5;241m.\u001b[39mwith_traceback(tb)\n\u001b[0;32m    197\u001b[0m     \u001b[38;5;28;01mraise\u001b[39;00m value\n",
      "File \u001b[1;32m~\\AppData\\Roaming\\Python\\Python312\\site-packages\\peewee.py:3322\u001b[0m, in \u001b[0;36mDatabase.execute_sql\u001b[1;34m(self, sql, params, commit)\u001b[0m\n\u001b[0;32m   3320\u001b[0m \u001b[38;5;28;01mwith\u001b[39;00m __exception_wrapper__:\n\u001b[0;32m   3321\u001b[0m     cursor \u001b[38;5;241m=\u001b[39m \u001b[38;5;28mself\u001b[39m\u001b[38;5;241m.\u001b[39mcursor()\n\u001b[1;32m-> 3322\u001b[0m     cursor\u001b[38;5;241m.\u001b[39mexecute(sql, params \u001b[38;5;129;01mor\u001b[39;00m ())\n\u001b[0;32m   3323\u001b[0m \u001b[38;5;28;01mreturn\u001b[39;00m cursor\n",
      "File \u001b[1;32m~\\AppData\\Roaming\\Python\\Python312\\site-packages\\pymysql\\cursors.py:153\u001b[0m, in \u001b[0;36mCursor.execute\u001b[1;34m(self, query, args)\u001b[0m\n\u001b[0;32m    149\u001b[0m     \u001b[38;5;28;01mpass\u001b[39;00m\n\u001b[0;32m    151\u001b[0m query \u001b[38;5;241m=\u001b[39m \u001b[38;5;28mself\u001b[39m\u001b[38;5;241m.\u001b[39mmogrify(query, args)\n\u001b[1;32m--> 153\u001b[0m result \u001b[38;5;241m=\u001b[39m \u001b[38;5;28mself\u001b[39m\u001b[38;5;241m.\u001b[39m_query(query)\n\u001b[0;32m    154\u001b[0m \u001b[38;5;28mself\u001b[39m\u001b[38;5;241m.\u001b[39m_executed \u001b[38;5;241m=\u001b[39m query\n\u001b[0;32m    155\u001b[0m \u001b[38;5;28;01mreturn\u001b[39;00m result\n",
      "File \u001b[1;32m~\\AppData\\Roaming\\Python\\Python312\\site-packages\\pymysql\\cursors.py:322\u001b[0m, in \u001b[0;36mCursor._query\u001b[1;34m(self, q)\u001b[0m\n\u001b[0;32m    320\u001b[0m conn \u001b[38;5;241m=\u001b[39m \u001b[38;5;28mself\u001b[39m\u001b[38;5;241m.\u001b[39m_get_db()\n\u001b[0;32m    321\u001b[0m \u001b[38;5;28mself\u001b[39m\u001b[38;5;241m.\u001b[39m_clear_result()\n\u001b[1;32m--> 322\u001b[0m conn\u001b[38;5;241m.\u001b[39mquery(q)\n\u001b[0;32m    323\u001b[0m \u001b[38;5;28mself\u001b[39m\u001b[38;5;241m.\u001b[39m_do_get_result()\n\u001b[0;32m    324\u001b[0m \u001b[38;5;28;01mreturn\u001b[39;00m \u001b[38;5;28mself\u001b[39m\u001b[38;5;241m.\u001b[39mrowcount\n",
      "File \u001b[1;32m~\\AppData\\Roaming\\Python\\Python312\\site-packages\\pymysql\\connections.py:563\u001b[0m, in \u001b[0;36mConnection.query\u001b[1;34m(self, sql, unbuffered)\u001b[0m\n\u001b[0;32m    561\u001b[0m     sql \u001b[38;5;241m=\u001b[39m sql\u001b[38;5;241m.\u001b[39mencode(\u001b[38;5;28mself\u001b[39m\u001b[38;5;241m.\u001b[39mencoding, \u001b[38;5;124m\"\u001b[39m\u001b[38;5;124msurrogateescape\u001b[39m\u001b[38;5;124m\"\u001b[39m)\n\u001b[0;32m    562\u001b[0m \u001b[38;5;28mself\u001b[39m\u001b[38;5;241m.\u001b[39m_execute_command(COMMAND\u001b[38;5;241m.\u001b[39mCOM_QUERY, sql)\n\u001b[1;32m--> 563\u001b[0m \u001b[38;5;28mself\u001b[39m\u001b[38;5;241m.\u001b[39m_affected_rows \u001b[38;5;241m=\u001b[39m \u001b[38;5;28mself\u001b[39m\u001b[38;5;241m.\u001b[39m_read_query_result(unbuffered\u001b[38;5;241m=\u001b[39munbuffered)\n\u001b[0;32m    564\u001b[0m \u001b[38;5;28;01mreturn\u001b[39;00m \u001b[38;5;28mself\u001b[39m\u001b[38;5;241m.\u001b[39m_affected_rows\n",
      "File \u001b[1;32m~\\AppData\\Roaming\\Python\\Python312\\site-packages\\pymysql\\connections.py:825\u001b[0m, in \u001b[0;36mConnection._read_query_result\u001b[1;34m(self, unbuffered)\u001b[0m\n\u001b[0;32m    823\u001b[0m \u001b[38;5;28;01melse\u001b[39;00m:\n\u001b[0;32m    824\u001b[0m     result \u001b[38;5;241m=\u001b[39m MySQLResult(\u001b[38;5;28mself\u001b[39m)\n\u001b[1;32m--> 825\u001b[0m     result\u001b[38;5;241m.\u001b[39mread()\n\u001b[0;32m    826\u001b[0m \u001b[38;5;28mself\u001b[39m\u001b[38;5;241m.\u001b[39m_result \u001b[38;5;241m=\u001b[39m result\n\u001b[0;32m    827\u001b[0m \u001b[38;5;28;01mif\u001b[39;00m result\u001b[38;5;241m.\u001b[39mserver_status \u001b[38;5;129;01mis\u001b[39;00m \u001b[38;5;129;01mnot\u001b[39;00m \u001b[38;5;28;01mNone\u001b[39;00m:\n",
      "File \u001b[1;32m~\\AppData\\Roaming\\Python\\Python312\\site-packages\\pymysql\\connections.py:1199\u001b[0m, in \u001b[0;36mMySQLResult.read\u001b[1;34m(self)\u001b[0m\n\u001b[0;32m   1197\u001b[0m \u001b[38;5;28;01mdef\u001b[39;00m \u001b[38;5;21mread\u001b[39m(\u001b[38;5;28mself\u001b[39m):\n\u001b[0;32m   1198\u001b[0m     \u001b[38;5;28;01mtry\u001b[39;00m:\n\u001b[1;32m-> 1199\u001b[0m         first_packet \u001b[38;5;241m=\u001b[39m \u001b[38;5;28mself\u001b[39m\u001b[38;5;241m.\u001b[39mconnection\u001b[38;5;241m.\u001b[39m_read_packet()\n\u001b[0;32m   1201\u001b[0m         \u001b[38;5;28;01mif\u001b[39;00m first_packet\u001b[38;5;241m.\u001b[39mis_ok_packet():\n\u001b[0;32m   1202\u001b[0m             \u001b[38;5;28mself\u001b[39m\u001b[38;5;241m.\u001b[39m_read_ok_packet(first_packet)\n",
      "File \u001b[1;32m~\\AppData\\Roaming\\Python\\Python312\\site-packages\\pymysql\\connections.py:775\u001b[0m, in \u001b[0;36mConnection._read_packet\u001b[1;34m(self, packet_type)\u001b[0m\n\u001b[0;32m    773\u001b[0m     \u001b[38;5;28;01mif\u001b[39;00m \u001b[38;5;28mself\u001b[39m\u001b[38;5;241m.\u001b[39m_result \u001b[38;5;129;01mis\u001b[39;00m \u001b[38;5;129;01mnot\u001b[39;00m \u001b[38;5;28;01mNone\u001b[39;00m \u001b[38;5;129;01mand\u001b[39;00m \u001b[38;5;28mself\u001b[39m\u001b[38;5;241m.\u001b[39m_result\u001b[38;5;241m.\u001b[39munbuffered_active \u001b[38;5;129;01mis\u001b[39;00m \u001b[38;5;28;01mTrue\u001b[39;00m:\n\u001b[0;32m    774\u001b[0m         \u001b[38;5;28mself\u001b[39m\u001b[38;5;241m.\u001b[39m_result\u001b[38;5;241m.\u001b[39munbuffered_active \u001b[38;5;241m=\u001b[39m \u001b[38;5;28;01mFalse\u001b[39;00m\n\u001b[1;32m--> 775\u001b[0m     packet\u001b[38;5;241m.\u001b[39mraise_for_error()\n\u001b[0;32m    776\u001b[0m \u001b[38;5;28;01mreturn\u001b[39;00m packet\n",
      "File \u001b[1;32m~\\AppData\\Roaming\\Python\\Python312\\site-packages\\pymysql\\protocol.py:219\u001b[0m, in \u001b[0;36mMysqlPacket.raise_for_error\u001b[1;34m(self)\u001b[0m\n\u001b[0;32m    217\u001b[0m \u001b[38;5;28;01mif\u001b[39;00m DEBUG:\n\u001b[0;32m    218\u001b[0m     \u001b[38;5;28mprint\u001b[39m(\u001b[38;5;124m\"\u001b[39m\u001b[38;5;124merrno =\u001b[39m\u001b[38;5;124m\"\u001b[39m, errno)\n\u001b[1;32m--> 219\u001b[0m err\u001b[38;5;241m.\u001b[39mraise_mysql_exception(\u001b[38;5;28mself\u001b[39m\u001b[38;5;241m.\u001b[39m_data)\n",
      "File \u001b[1;32m~\\AppData\\Roaming\\Python\\Python312\\site-packages\\pymysql\\err.py:150\u001b[0m, in \u001b[0;36mraise_mysql_exception\u001b[1;34m(data)\u001b[0m\n\u001b[0;32m    148\u001b[0m \u001b[38;5;28;01mif\u001b[39;00m errorclass \u001b[38;5;129;01mis\u001b[39;00m \u001b[38;5;28;01mNone\u001b[39;00m:\n\u001b[0;32m    149\u001b[0m     errorclass \u001b[38;5;241m=\u001b[39m InternalError \u001b[38;5;28;01mif\u001b[39;00m errno \u001b[38;5;241m<\u001b[39m \u001b[38;5;241m1000\u001b[39m \u001b[38;5;28;01melse\u001b[39;00m OperationalError\n\u001b[1;32m--> 150\u001b[0m \u001b[38;5;28;01mraise\u001b[39;00m errorclass(errno, errval)\n",
      "\u001b[1;31mIntegrityError\u001b[0m: (1452, 'Cannot add or update a child row: a foreign key constraint fails (`amazon`.`products`, CONSTRAINT `products_ibfk_1` FOREIGN KEY (`category_id`) REFERENCES `category` (`id`))')"
     ]
    }
   ],
   "source": [
    "#   - builk insert file data into products tables\n",
    "f = open(r'C:\\Users\\A.saad aldeen\\Downloads\\MOCK_DATA (1).json')\n",
    "data2 = json.load(f)\n",
    "for p in data2:\n",
    "    Products.create(**p)"
   ]
  },
  {
   "cell_type": "code",
   "execution_count": 49,
   "id": "79b78ac2-af99-455a-9515-5555949c3ac7",
   "metadata": {},
   "outputs": [
    {
     "ename": "AttributeError",
     "evalue": "'Products' object has no attribute 'price'",
     "output_type": "error",
     "traceback": [
      "\u001b[1;31m---------------------------------------------------------------------------\u001b[0m",
      "\u001b[1;31mAttributeError\u001b[0m                            Traceback (most recent call last)",
      "Cell \u001b[1;32mIn[49], line 4\u001b[0m\n\u001b[0;32m      2\u001b[0m dataselect \u001b[38;5;241m=\u001b[39m Products\u001b[38;5;241m.\u001b[39mselect()\n\u001b[0;32m      3\u001b[0m \u001b[38;5;28;01mfor\u001b[39;00m x \u001b[38;5;129;01min\u001b[39;00m dataselect:\n\u001b[1;32m----> 4\u001b[0m     \u001b[38;5;28mprint\u001b[39m(x\u001b[38;5;241m.\u001b[39mid,x\u001b[38;5;241m.\u001b[39mname,x\u001b[38;5;241m.\u001b[39mprice,x\u001b[38;5;241m.\u001b[39mcategory,x\u001b[38;5;241m.\u001b[39mdiscription)\n",
      "\u001b[1;31mAttributeError\u001b[0m: 'Products' object has no attribute 'price'"
     ]
    }
   ],
   "source": [
    "#   - select all products\n",
    "dataselect = Products.select()\n",
    "for x in dataselect:\n",
    "    print(x.id,x.name,x.price,x.category,x.discription)"
   ]
  },
  {
   "cell_type": "code",
   "execution_count": 51,
   "id": "646f1eaa-71bd-4720-b330-e81a1365967b",
   "metadata": {},
   "outputs": [
    {
     "ename": "AttributeError",
     "evalue": "type object 'Products' has no attribute 'price'",
     "output_type": "error",
     "traceback": [
      "\u001b[1;31m---------------------------------------------------------------------------\u001b[0m",
      "\u001b[1;31mAttributeError\u001b[0m                            Traceback (most recent call last)",
      "Cell \u001b[1;32mIn[51], line 2\u001b[0m\n\u001b[0;32m      1\u001b[0m \u001b[38;5;66;03m#   - select all products price > 30\u001b[39;00m\n\u001b[1;32m----> 2\u001b[0m dataprice \u001b[38;5;241m=\u001b[39m Products\u001b[38;5;241m.\u001b[39mselect()\u001b[38;5;241m.\u001b[39mwhere(Products\u001b[38;5;241m.\u001b[39mprice \u001b[38;5;241m>\u001b[39m \u001b[38;5;241m30\u001b[39m)\n\u001b[0;32m      3\u001b[0m \u001b[38;5;28;01mfor\u001b[39;00m x \u001b[38;5;129;01min\u001b[39;00m dataprice:\n\u001b[0;32m      4\u001b[0m     \u001b[38;5;28mprint\u001b[39m(x\u001b[38;5;241m.\u001b[39mid,x\u001b[38;5;241m.\u001b[39mname,x\u001b[38;5;241m.\u001b[39mprice,x\u001b[38;5;241m.\u001b[39mcategory,x\u001b[38;5;241m.\u001b[39mdiscription)\n",
      "\u001b[1;31mAttributeError\u001b[0m: type object 'Products' has no attribute 'price'"
     ]
    }
   ],
   "source": [
    "#   - select all products price > 30\n",
    "dataprice = Products.select().where(Products.price > 30)\n",
    "for x in dataprice:\n",
    "    print(x.id,x.name,x.price,x.category,x.discription)\n",
    "    "
   ]
  },
  {
   "cell_type": "code",
   "execution_count": 53,
   "id": "cdced276-e15a-4daf-b925-c2eddb15f40d",
   "metadata": {},
   "outputs": [],
   "source": [
    "#   - get products wehre category = 'any_category_name'\n",
    "datacategory = Products.get().where(Products.name == '')\n",
    "for x in datacategory:\n",
    "    print(x.id,x.name,x.price,x.category,x.discription)"
   ]
  },
  {
   "cell_type": "code",
   "execution_count": null,
   "id": "d84f7be3-ac20-4876-8593-7b1fdf8a17ca",
   "metadata": {},
   "outputs": [],
   "source": [
    "#   - count how many product in each category \n",
    "countcat = db.execute_sql('select name ,count(id) from Products GROUP BY category_id')\n",
    "print(list(countcat))\n"
   ]
  },
  {
   "cell_type": "code",
   "execution_count": null,
   "id": "e0d843a5-0b2d-4618-974b-2815d4f0686b",
   "metadata": {},
   "outputs": [],
   "source": [
    "#   - export products into csv\n",
    "file_name = \"CSV\"\n",
    "data db.execute_sql(\"select * from Products\")\n",
    "data1 = [x for x in data]\n",
    "\n",
    "def export_to_csv(file_name,data):\n",
    "    with open(f\"{file_name}.csv\",mode = 'w') as file:\n",
    "        writer = csv.writer(file)\n",
    "        writer.writerow(['id','name','price','category','discription'])\n",
    "        writer.writerows(data)\n",
    "\n",
    "export_to_csv(file_name,data)"
   ]
  }
 ],
 "metadata": {
  "kernelspec": {
   "display_name": "Python 3 (ipykernel)",
   "language": "python",
   "name": "python3"
  },
  "language_info": {
   "codemirror_mode": {
    "name": "ipython",
    "version": 3
   },
   "file_extension": ".py",
   "mimetype": "text/x-python",
   "name": "python",
   "nbconvert_exporter": "python",
   "pygments_lexer": "ipython3",
   "version": "3.12.4"
  }
 },
 "nbformat": 4,
 "nbformat_minor": 5
}
